{
 "cells": [
  {
   "cell_type": "code",
   "execution_count": 1,
   "id": "a7145b34-b4ce-451d-8b32-49380893e143",
   "metadata": {},
   "outputs": [],
   "source": [
    "import logging\n",
    "import logging.config\n",
    "logging.config.fileConfig('logging_config.ini')\n",
    "from soso.job import Job\n",
    "Job1 = Job(name=\"job1\",start=\"2025-02-02T11:12:06\",end=\"2025-02-02T12:12:06\",priority=2,latitude=120,longitude=100,delivery=\"2025-03-02T12:12:06\")\n",
    "Job2 = Job(name=\"job2\",start=\"2025-02-02T11:12:06\",end=\"2025-02-02T12:12:06\",priority=2,latitude=140,longitude=120,delivery=\"2025-03-02T12:12:06\")"
   ]
  },
  {
   "cell_type": "code",
   "execution_count": 2,
   "id": "0d0d51a0-ee49-4ba6-8cd7-01a63c4a59c4",
   "metadata": {},
   "outputs": [],
   "source": [
    "from soso.utils import parse_ground_stations,parse_satellites, parse_two_line_elements, print_api_result"
   ]
  },
  {
   "cell_type": "code",
   "execution_count": 3,
   "id": "53a8e8a1-df6c-4eb6-b2da-8258d7cefffc",
   "metadata": {},
   "outputs": [],
   "source": [
    "from pathlib import Path\n",
    "import os\n",
    "from colorama import Fore\n",
    "from skyfield.api import load\n",
    "ts = load.timescale()\n",
    "eph = load('de421.bsp')\n",
    "# Define directories containing the satellites and orders data\n",
    "project_dir = Path(os.path.dirname(''))\n",
    "data_dir = project_dir / 'data'\n",
    "order_data_dir = data_dir / 'orders'\n",
    "satellite_data_dir = data_dir / 'satellites'\n",
    "outage_request_data_dir = data_dir / 'outages'\n",
    "ground_station_data_dir = data_dir / 'ground_stations'\n",
    "two_line_elements = parse_two_line_elements(satellite_data_dir)\n",
    "\n",
    "# Parse satellites and orders data\n",
    "satellites = parse_satellites(satellite_data_dir, ts)\n",
    "ground_stations = parse_ground_stations(ground_station_data_dir)"
   ]
  },
  {
   "cell_type": "code",
   "execution_count": 4,
   "id": "a3fc8616-3c40-424b-8a10-9ac8c1ef4ce5",
   "metadata": {},
   "outputs": [
    {
     "name": "stdout",
     "output_type": "stream",
     "text": [
      "2025-03-14 20:46:59,585 - soso.interval_tree.satellite_interval_trees - [INFO] - Making the interval trees took 0.28505992889404297 seconds\n"
     ]
    }
   ],
   "source": [
    "# Generate intervals for each satellite\n",
    "from soso.interval_tree import generate_satellite_intervals\n",
    "from soso.utils import SchedulerServer, run_server_and_send_request\n",
    "from soso.interface import ScheduleOutput, ScheduleParameters\n",
    "jobs = (Job1,Job2)\n",
    "outage_requests= ()\n",
    "satellite_passes = generate_satellite_intervals(\n",
    "    satellites,\n",
    "    jobs,\n",
    "    outage_requests,\n",
    "    ground_stations,\n",
    "    (),\n",
    "    ts,\n",
    "    eph\n",
    ")\n",
    "satellite_intervals = satellite_passes.satellite_intervals\n",
    "ground_station_passes = satellite_passes.ground_station_passes"
   ]
  },
  {
   "cell_type": "code",
   "execution_count": 5,
   "id": "d8cf4d09-7483-4d75-95a7-59b462901db7",
   "metadata": {},
   "outputs": [
    {
     "name": "stdout",
     "output_type": "stream",
     "text": [
      "stdout from the server will be printed in cyan\n",
      "stderr from the server will be printed in red\n",
      "2025-03-14 20:47:01,272 - uvicorn.error - [INFO] - Started server process [21587]\n",
      "2025-03-14 20:47:01,273 - uvicorn.error - [INFO] - Waiting for application startup.\n",
      "2025-03-14 20:47:01,273 - uvicorn.error - [INFO] - Application startup complete.\n",
      "2025-03-14 20:47:01,273 - uvicorn.error - [INFO] - Uvicorn running on http://127.0.0.1:8000 (Press CTRL+C to quit)\n",
      "2025-03-14 20:47:07,626 - soso.api - [INFO] - Received scheduling request from 127.0.0.1:58037\n",
      "2025-03-14 20:47:07,928 - soso.interval_tree.satellite_interval_trees - [INFO] - Making the interval trees took 0.29017090797424316 seconds\n",
      "2025-03-14 20:47:07,930 - soso.genetic.genetic_scheduler - [INFO] - Starting genetic algorithm\n",
      "2025-03-14 20:47:07,934 - soso.network_flow.network_flow_scheduler - [INFO] - Total network flow runtime (without plotting): 0.0029120445251464844\n",
      "2025-03-14 20:47:07,969 - soso.bin_packing.ground_station_bin_packing - [INFO] - Bin packing took 0.03541302680969238 seconds\n",
      "2025-03-14 20:47:07,971 - soso.genetic.genetic_scheduler - [INFO] - Generation: 0, best fitness: 13.0\n",
      "2025-03-14 20:47:07,976 - soso.network_flow.network_flow_scheduler - [INFO] - Total network flow runtime (without plotting): 0.0038356781005859375\n",
      "2025-03-14 20:47:08,030 - soso.bin_packing.ground_station_bin_packing - [INFO] - Bin packing took 0.05378580093383789 seconds\n",
      "2025-03-14 20:47:08,031 - soso.network_flow.network_flow_scheduler - [INFO] - Total network flow runtime (without plotting): 0.0010449886322021484\n",
      "2025-03-14 20:47:08,078 - soso.bin_packing.ground_station_bin_packing - [INFO] - Bin packing took 0.04661726951599121 seconds\n",
      "2025-03-14 20:47:08,079 - soso.network_flow.network_flow_scheduler - [INFO] - Total network flow runtime (without plotting): 0.0008141994476318359\n",
      "2025-03-14 20:47:08,130 - soso.bin_packing.ground_station_bin_packing - [INFO] - Bin packing took 0.049781084060668945 seconds\n",
      "2025-03-14 20:47:08,134 - soso.network_flow.network_flow_scheduler - [INFO] - Total network flow runtime (without plotting): 0.0037517547607421875\n",
      "2025-03-14 20:47:08,182 - soso.bin_packing.ground_station_bin_packing - [INFO] - Bin packing took 0.048085927963256836 seconds\n",
      "2025-03-14 20:47:08,184 - soso.network_flow.network_flow_scheduler - [INFO] - Total network flow runtime (without plotting): 0.001077890396118164\n",
      "2025-03-14 20:47:08,224 - soso.bin_packing.ground_station_bin_packing - [INFO] - Bin packing took 0.03888392448425293 seconds\n",
      "2025-03-14 20:47:08,227 - soso.network_flow.network_flow_scheduler - [INFO] - Total network flow runtime (without plotting): 0.0031249523162841797\n",
      "2025-03-14 20:47:08,253 - soso.bin_packing.ground_station_bin_packing - [INFO] - Bin packing took 0.025478839874267578 seconds\n",
      "2025-03-14 20:47:08,256 - soso.network_flow.network_flow_scheduler - [INFO] - Total network flow runtime (without plotting): 0.0023238658905029297\n",
      "2025-03-14 20:47:08,283 - soso.bin_packing.ground_station_bin_packing - [INFO] - Bin packing took 0.0270540714263916 seconds\n",
      "2025-03-14 20:47:08,285 - soso.network_flow.network_flow_scheduler - [INFO] - Total network flow runtime (without plotting): 0.0023698806762695312\n",
      "2025-03-14 20:47:08,314 - soso.bin_packing.ground_station_bin_packing - [INFO] - Bin packing took 0.02784419059753418 seconds\n",
      "2025-03-14 20:47:08,316 - soso.network_flow.network_flow_scheduler - [INFO] - Total network flow runtime (without plotting): 0.002292156219482422\n",
      "2025-03-14 20:47:08,343 - soso.bin_packing.ground_station_bin_packing - [INFO] - Bin packing took 0.026937007904052734 seconds\n",
      "2025-03-14 20:47:08,344 - soso.genetic.genetic_scheduler - [INFO] - Generation: 1, best fitness: 13.0\n",
      "2025-03-14 20:47:08,345 - soso.network_flow.network_flow_scheduler - [INFO] - Total network flow runtime (without plotting): 0.0014967918395996094\n",
      "2025-03-14 20:47:08,375 - soso.bin_packing.ground_station_bin_packing - [INFO] - Bin packing took 0.02976393699645996 seconds\n",
      "2025-03-14 20:47:08,377 - soso.network_flow.network_flow_scheduler - [INFO] - Total network flow runtime (without plotting): 0.0015439987182617188\n",
      "2025-03-14 20:47:08,404 - soso.bin_packing.ground_station_bin_packing - [INFO] - Bin packing took 0.026992082595825195 seconds\n",
      "2025-03-14 20:47:08,407 - soso.network_flow.network_flow_scheduler - [INFO] - Total network flow runtime (without plotting): 0.002434968948364258\n",
      "2025-03-14 20:47:08,429 - soso.bin_packing.ground_station_bin_packing - [INFO] - Bin packing took 0.0216829776763916 seconds\n",
      "2025-03-14 20:47:08,432 - soso.network_flow.network_flow_scheduler - [INFO] - Total network flow runtime (without plotting): 0.0020639896392822266\n",
      "2025-03-14 20:47:08,456 - soso.bin_packing.ground_station_bin_packing - [INFO] - Bin packing took 0.023687124252319336 seconds\n",
      "2025-03-14 20:47:08,458 - soso.network_flow.network_flow_scheduler - [INFO] - Total network flow runtime (without plotting): 0.0019998550415039062\n",
      "2025-03-14 20:47:08,482 - soso.bin_packing.ground_station_bin_packing - [INFO] - Bin packing took 0.02365708351135254 seconds\n",
      "2025-03-14 20:47:08,482 - soso.genetic.genetic_scheduler - [INFO] - Generation: 2, best fitness: 13.0\n",
      "2025-03-14 20:47:08,485 - soso.network_flow.network_flow_scheduler - [INFO] - Total network flow runtime (without plotting): 0.002048015594482422\n",
      "2025-03-14 20:47:08,507 - soso.bin_packing.ground_station_bin_packing - [INFO] - Bin packing took 0.021914005279541016 seconds\n",
      "2025-03-14 20:47:08,510 - soso.network_flow.network_flow_scheduler - [INFO] - Total network flow runtime (without plotting): 0.002765178680419922\n",
      "2025-03-14 20:47:08,532 - soso.bin_packing.ground_station_bin_packing - [INFO] - Bin packing took 0.022305011749267578 seconds\n",
      "2025-03-14 20:47:08,535 - soso.network_flow.network_flow_scheduler - [INFO] - Total network flow runtime (without plotting): 0.0019392967224121094\n",
      "2025-03-14 20:47:08,554 - soso.bin_packing.ground_station_bin_packing - [INFO] - Bin packing took 0.01976609230041504 seconds\n",
      "2025-03-14 20:47:08,558 - soso.network_flow.network_flow_scheduler - [INFO] - Total network flow runtime (without plotting): 0.002893209457397461\n",
      "2025-03-14 20:47:08,580 - soso.bin_packing.ground_station_bin_packing - [INFO] - Bin packing took 0.0223538875579834 seconds\n",
      "2025-03-14 20:47:08,582 - soso.network_flow.network_flow_scheduler - [INFO] - Total network flow runtime (without plotting): 0.001699209213256836\n",
      "2025-03-14 20:47:08,604 - soso.bin_packing.ground_station_bin_packing - [INFO] - Bin packing took 0.02117300033569336 seconds\n",
      "2025-03-14 20:47:08,604 - soso.genetic.genetic_scheduler - [INFO] - Generation: 3, best fitness: 13.0\n",
      "2025-03-14 20:47:08,609 - soso.network_flow.network_flow_scheduler - [INFO] - Total network flow runtime (without plotting): 0.004212141036987305\n",
      "2025-03-14 20:47:08,630 - soso.bin_packing.ground_station_bin_packing - [INFO] - Bin packing took 0.020617961883544922 seconds\n",
      "2025-03-14 20:47:08,632 - soso.network_flow.network_flow_scheduler - [INFO] - Total network flow runtime (without plotting): 0.0019061565399169922\n",
      "2025-03-14 20:47:08,653 - soso.bin_packing.ground_station_bin_packing - [INFO] - Bin packing took 0.02064800262451172 seconds\n",
      "2025-03-14 20:47:08,654 - soso.network_flow.network_flow_scheduler - [INFO] - Total network flow runtime (without plotting): 0.001241922378540039\n",
      "2025-03-14 20:47:08,677 - soso.bin_packing.ground_station_bin_packing - [INFO] - Bin packing took 0.022630929946899414 seconds\n",
      "2025-03-14 20:47:08,679 - soso.network_flow.network_flow_scheduler - [INFO] - Total network flow runtime (without plotting): 0.0014629364013671875\n",
      "2025-03-14 20:47:08,699 - soso.bin_packing.ground_station_bin_packing - [INFO] - Bin packing took 0.02016592025756836 seconds\n",
      "2025-03-14 20:47:08,700 - soso.network_flow.network_flow_scheduler - [INFO] - Total network flow runtime (without plotting): 0.0010900497436523438\n",
      "2025-03-14 20:47:08,720 - soso.bin_packing.ground_station_bin_packing - [INFO] - Bin packing took 0.019847869873046875 seconds\n",
      "2025-03-14 20:47:08,721 - soso.genetic.genetic_scheduler - [INFO] - Generation: 4, best fitness: 13.0\n",
      "2025-03-14 20:47:08,723 - soso.network_flow.network_flow_scheduler - [INFO] - Total network flow runtime (without plotting): 0.0024247169494628906\n",
      "2025-03-14 20:47:08,745 - soso.bin_packing.ground_station_bin_packing - [INFO] - Bin packing took 0.021565914154052734 seconds\n",
      "2025-03-14 20:47:08,747 - soso.network_flow.network_flow_scheduler - [INFO] - Total network flow runtime (without plotting): 0.0016357898712158203\n",
      "2025-03-14 20:47:08,768 - soso.bin_packing.ground_station_bin_packing - [INFO] - Bin packing took 0.020849943161010742 seconds\n",
      "2025-03-14 20:47:08,770 - soso.network_flow.network_flow_scheduler - [INFO] - Total network flow runtime (without plotting): 0.002118825912475586\n",
      "2025-03-14 20:47:08,791 - soso.bin_packing.ground_station_bin_packing - [INFO] - Bin packing took 0.01998591423034668 seconds\n",
      "2025-03-14 20:47:08,793 - soso.network_flow.network_flow_scheduler - [INFO] - Total network flow runtime (without plotting): 0.002229928970336914\n",
      "2025-03-14 20:47:08,815 - soso.bin_packing.ground_station_bin_packing - [INFO] - Bin packing took 0.021930932998657227 seconds\n",
      "2025-03-14 20:47:08,818 - soso.network_flow.network_flow_scheduler - [INFO] - Total network flow runtime (without plotting): 0.0024199485778808594\n",
      "2025-03-14 20:47:08,837 - soso.bin_packing.ground_station_bin_packing - [INFO] - Bin packing took 0.019185781478881836 seconds\n",
      "2025-03-14 20:47:08,838 - soso.genetic.genetic_scheduler - [INFO] - Genetic algorithm took 0.9071033000946045 seconds\n",
      "2025-03-14 20:47:08,839 - soso.network_flow.network_flow_scheduler - [INFO] - Total network flow runtime (without plotting): 0.0008559226989746094\n",
      "2025-03-14 20:47:08,859 - soso.bin_packing.ground_station_bin_packing - [INFO] - Bin packing took 0.019860029220581055 seconds\n",
      "2025-03-14 20:47:08,860 - uvicorn.access - [INFO] - 127.0.0.1:58037 - \"POST /schedule HTTP/1.1\" 200\n",
      "2025-03-14 20:47:08,874 - uvicorn.error - [INFO] - Shutting down\n",
      "2025-03-14 20:47:08,975 - uvicorn.error - [INFO] - Waiting for application shutdown.\n",
      "2025-03-14 20:47:08,976 - uvicorn.error - [INFO] - Application shutdown complete.\n",
      "2025-03-14 20:47:08,976 - uvicorn.error - [INFO] - Finished server process [21587]\n"
     ]
    }
   ],
   "source": [
    "\n",
    "    params = ScheduleParameters(\n",
    "        input_hash=None,\n",
    "        two_line_elements=two_line_elements,\n",
    "        jobs=jobs,\n",
    "        ground_stations=ground_stations,\n",
    "        outage_requests=outage_requests,\n",
    "        ground_station_outage_requests=[]\n",
    "    )\n",
    "    \n",
    "solution = run_server_and_send_request(params)"
   ]
  },
  {
   "cell_type": "code",
   "execution_count": 10,
   "id": "49045c05-05aa-42ae-a2bd-028154b110b4",
   "metadata": {},
   "outputs": [
    {
     "name": "stdout",
     "output_type": "stream",
     "text": [
      "Satellite: SOSO-1\n",
      "Satellite: SOSO-2\n",
      "Satellite: SOSO-3\n",
      "Satellite: SOSO-4\n",
      "Satellite: SOSO-5\n",
      "Impossible orders: []\n",
      "Impossible orders from ground stations: []\n",
      "Impossible orders from outages: []\n",
      "Rejected orders: [job2 P2, job1 P2]\n"
     ]
    }
   ],
   "source": [
    "print_api_result(solution)"
   ]
  },
  {
   "cell_type": "code",
   "execution_count": null,
   "id": "44c1bb52-31d5-4a9e-8939-022a3b8e2c86",
   "metadata": {},
   "outputs": [],
   "source": []
  }
 ],
 "metadata": {
  "kernelspec": {
   "display_name": "Python 3 (ipykernel)",
   "language": "python",
   "name": "python3"
  },
  "language_info": {
   "codemirror_mode": {
    "name": "ipython",
    "version": 3
   },
   "file_extension": ".py",
   "mimetype": "text/x-python",
   "name": "python",
   "nbconvert_exporter": "python",
   "pygments_lexer": "ipython3",
   "version": "3.12.8"
  }
 },
 "nbformat": 4,
 "nbformat_minor": 5
}
